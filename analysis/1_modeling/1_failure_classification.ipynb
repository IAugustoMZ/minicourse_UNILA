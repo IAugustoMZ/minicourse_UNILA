{
 "cells": [
  {
   "cell_type": "markdown",
   "metadata": {},
   "source": [
    "# Failure Classification Modeling\n",
    "\n",
    "This notebook aims to show the modeling step for predicting the failure class"
   ]
  },
  {
   "cell_type": "code",
   "execution_count": 25,
   "metadata": {},
   "outputs": [],
   "source": [
    "import os\n",
    "import joblib\n",
    "import warnings\n",
    "import numpy as np\n",
    "import pandas as pd\n",
    "import seaborn as sns\n",
    "import matplotlib.pyplot as plt\n",
    "from sklearn.pipeline import Pipeline\n",
    "from sklearn.preprocessing import RobustScaler\n",
    "from sklearn.linear_model import LogisticRegression\n",
    "from sklearn.ensemble import GradientBoostingClassifier\n",
    "from sklearn.model_selection import RandomizedSearchCV, StratifiedKFold\n",
    "from sklearn.metrics import recall_score, f1_score, ConfusionMatrixDisplay\n",
    "from sklearn.feature_selection import SelectKBest, SelectFromModel, f_regression\n",
    "\n",
    "# ignore warnings\n",
    "warnings.filterwarnings('ignore')\n",
    "\n",
    "# definition of constants\n",
    "DATASOURCE = '../../data/3_model_data'\n",
    "MODELS = '../../models'\n",
    "DATANAME = 'train_classification.csv'"
   ]
  },
  {
   "cell_type": "code",
   "execution_count": 26,
   "metadata": {},
   "outputs": [
    {
     "data": {
      "text/html": [
       "<div>\n",
       "<style scoped>\n",
       "    .dataframe tbody tr th:only-of-type {\n",
       "        vertical-align: middle;\n",
       "    }\n",
       "\n",
       "    .dataframe tbody tr th {\n",
       "        vertical-align: top;\n",
       "    }\n",
       "\n",
       "    .dataframe thead th {\n",
       "        text-align: right;\n",
       "    }\n",
       "</style>\n",
       "<table border=\"1\" class=\"dataframe\">\n",
       "  <thead>\n",
       "    <tr style=\"text-align: right;\">\n",
       "      <th></th>\n",
       "      <th>runtime</th>\n",
       "      <th>tag2</th>\n",
       "      <th>tag3</th>\n",
       "      <th>tag4</th>\n",
       "      <th>tag7</th>\n",
       "      <th>tag9</th>\n",
       "      <th>tag11</th>\n",
       "      <th>tag12</th>\n",
       "      <th>tag14</th>\n",
       "      <th>tag15</th>\n",
       "      <th>tag17</th>\n",
       "      <th>tag20</th>\n",
       "      <th>tag21</th>\n",
       "      <th>categ</th>\n",
       "    </tr>\n",
       "  </thead>\n",
       "  <tbody>\n",
       "    <tr>\n",
       "      <th>0</th>\n",
       "      <td>1</td>\n",
       "      <td>641.82</td>\n",
       "      <td>1589.70</td>\n",
       "      <td>1400.60</td>\n",
       "      <td>554.36</td>\n",
       "      <td>9046.19</td>\n",
       "      <td>47.47</td>\n",
       "      <td>521.66</td>\n",
       "      <td>8138.62</td>\n",
       "      <td>8.4195</td>\n",
       "      <td>392</td>\n",
       "      <td>39.06</td>\n",
       "      <td>23.4190</td>\n",
       "      <td>0</td>\n",
       "    </tr>\n",
       "    <tr>\n",
       "      <th>1</th>\n",
       "      <td>2</td>\n",
       "      <td>642.15</td>\n",
       "      <td>1591.82</td>\n",
       "      <td>1403.14</td>\n",
       "      <td>553.75</td>\n",
       "      <td>9044.07</td>\n",
       "      <td>47.49</td>\n",
       "      <td>522.28</td>\n",
       "      <td>8131.49</td>\n",
       "      <td>8.4318</td>\n",
       "      <td>392</td>\n",
       "      <td>39.00</td>\n",
       "      <td>23.4236</td>\n",
       "      <td>0</td>\n",
       "    </tr>\n",
       "    <tr>\n",
       "      <th>2</th>\n",
       "      <td>3</td>\n",
       "      <td>642.35</td>\n",
       "      <td>1587.99</td>\n",
       "      <td>1404.20</td>\n",
       "      <td>554.26</td>\n",
       "      <td>9052.94</td>\n",
       "      <td>47.27</td>\n",
       "      <td>522.42</td>\n",
       "      <td>8133.23</td>\n",
       "      <td>8.4178</td>\n",
       "      <td>390</td>\n",
       "      <td>38.95</td>\n",
       "      <td>23.3442</td>\n",
       "      <td>0</td>\n",
       "    </tr>\n",
       "    <tr>\n",
       "      <th>3</th>\n",
       "      <td>4</td>\n",
       "      <td>642.35</td>\n",
       "      <td>1582.79</td>\n",
       "      <td>1401.87</td>\n",
       "      <td>554.45</td>\n",
       "      <td>9049.48</td>\n",
       "      <td>47.13</td>\n",
       "      <td>522.86</td>\n",
       "      <td>8133.83</td>\n",
       "      <td>8.3682</td>\n",
       "      <td>392</td>\n",
       "      <td>38.88</td>\n",
       "      <td>23.3739</td>\n",
       "      <td>0</td>\n",
       "    </tr>\n",
       "    <tr>\n",
       "      <th>4</th>\n",
       "      <td>5</td>\n",
       "      <td>642.37</td>\n",
       "      <td>1582.85</td>\n",
       "      <td>1406.22</td>\n",
       "      <td>554.00</td>\n",
       "      <td>9055.15</td>\n",
       "      <td>47.28</td>\n",
       "      <td>522.19</td>\n",
       "      <td>8133.80</td>\n",
       "      <td>8.4294</td>\n",
       "      <td>393</td>\n",
       "      <td>38.90</td>\n",
       "      <td>23.4044</td>\n",
       "      <td>0</td>\n",
       "    </tr>\n",
       "  </tbody>\n",
       "</table>\n",
       "</div>"
      ],
      "text/plain": [
       "   runtime    tag2     tag3     tag4    tag7     tag9  tag11   tag12    tag14  \\\n",
       "0        1  641.82  1589.70  1400.60  554.36  9046.19  47.47  521.66  8138.62   \n",
       "1        2  642.15  1591.82  1403.14  553.75  9044.07  47.49  522.28  8131.49   \n",
       "2        3  642.35  1587.99  1404.20  554.26  9052.94  47.27  522.42  8133.23   \n",
       "3        4  642.35  1582.79  1401.87  554.45  9049.48  47.13  522.86  8133.83   \n",
       "4        5  642.37  1582.85  1406.22  554.00  9055.15  47.28  522.19  8133.80   \n",
       "\n",
       "    tag15  tag17  tag20    tag21  categ  \n",
       "0  8.4195    392  39.06  23.4190      0  \n",
       "1  8.4318    392  39.00  23.4236      0  \n",
       "2  8.4178    390  38.95  23.3442      0  \n",
       "3  8.3682    392  38.88  23.3739      0  \n",
       "4  8.4294    393  38.90  23.4044      0  "
      ]
     },
     "execution_count": 26,
     "metadata": {},
     "output_type": "execute_result"
    }
   ],
   "source": [
    "# load data\n",
    "data = pd.read_csv(os.path.join(DATASOURCE, DATANAME))\n",
    "data.head()"
   ]
  },
  {
   "cell_type": "code",
   "execution_count": 27,
   "metadata": {},
   "outputs": [],
   "source": [
    "# split into predictors and predicted\n",
    "x = data.drop(['categ'], axis=1)\n",
    "y = data[['categ']]"
   ]
  },
  {
   "cell_type": "code",
   "execution_count": 28,
   "metadata": {},
   "outputs": [],
   "source": [
    "# configure cross validation object\n",
    "kfold = StratifiedKFold(n_splits=3, shuffle=True, random_state=2)"
   ]
  },
  {
   "cell_type": "markdown",
   "metadata": {},
   "source": [
    "## Linear Model Approach"
   ]
  },
  {
   "cell_type": "code",
   "execution_count": 29,
   "metadata": {},
   "outputs": [],
   "source": [
    "# configure model pipeline and parameters search space\n",
    "linear_model_pipeline = Pipeline([\n",
    "    ('feature_selector_1', SelectKBest(f_regression)),\n",
    "    ('scaler', RobustScaler()),\n",
    "    ('feature_selector_2', SelectFromModel(LogisticRegression(penalty='l1', random_state=2, solver='saga'))),\n",
    "    ('linear_model', LogisticRegression(penalty='l2', random_state=2, solver='saga'))\n",
    "])\n",
    "\n",
    "model_params = {\n",
    "    'feature_selector_1__k': range(1, 8),\n",
    "    'feature_selector_2__estimator__C': np.random.uniform(0.001, 20, 1000),\n",
    "    'linear_model__C': np.random.uniform(0.001, 20, 1000)\n",
    "}"
   ]
  },
  {
   "cell_type": "code",
   "execution_count": 30,
   "metadata": {},
   "outputs": [
    {
     "data": {
      "text/html": [
       "<style>#sk-container-id-3 {color: black;background-color: white;}#sk-container-id-3 pre{padding: 0;}#sk-container-id-3 div.sk-toggleable {background-color: white;}#sk-container-id-3 label.sk-toggleable__label {cursor: pointer;display: block;width: 100%;margin-bottom: 0;padding: 0.3em;box-sizing: border-box;text-align: center;}#sk-container-id-3 label.sk-toggleable__label-arrow:before {content: \"▸\";float: left;margin-right: 0.25em;color: #696969;}#sk-container-id-3 label.sk-toggleable__label-arrow:hover:before {color: black;}#sk-container-id-3 div.sk-estimator:hover label.sk-toggleable__label-arrow:before {color: black;}#sk-container-id-3 div.sk-toggleable__content {max-height: 0;max-width: 0;overflow: hidden;text-align: left;background-color: #f0f8ff;}#sk-container-id-3 div.sk-toggleable__content pre {margin: 0.2em;color: black;border-radius: 0.25em;background-color: #f0f8ff;}#sk-container-id-3 input.sk-toggleable__control:checked~div.sk-toggleable__content {max-height: 200px;max-width: 100%;overflow: auto;}#sk-container-id-3 input.sk-toggleable__control:checked~label.sk-toggleable__label-arrow:before {content: \"▾\";}#sk-container-id-3 div.sk-estimator input.sk-toggleable__control:checked~label.sk-toggleable__label {background-color: #d4ebff;}#sk-container-id-3 div.sk-label input.sk-toggleable__control:checked~label.sk-toggleable__label {background-color: #d4ebff;}#sk-container-id-3 input.sk-hidden--visually {border: 0;clip: rect(1px 1px 1px 1px);clip: rect(1px, 1px, 1px, 1px);height: 1px;margin: -1px;overflow: hidden;padding: 0;position: absolute;width: 1px;}#sk-container-id-3 div.sk-estimator {font-family: monospace;background-color: #f0f8ff;border: 1px dotted black;border-radius: 0.25em;box-sizing: border-box;margin-bottom: 0.5em;}#sk-container-id-3 div.sk-estimator:hover {background-color: #d4ebff;}#sk-container-id-3 div.sk-parallel-item::after {content: \"\";width: 100%;border-bottom: 1px solid gray;flex-grow: 1;}#sk-container-id-3 div.sk-label:hover label.sk-toggleable__label {background-color: #d4ebff;}#sk-container-id-3 div.sk-serial::before {content: \"\";position: absolute;border-left: 1px solid gray;box-sizing: border-box;top: 0;bottom: 0;left: 50%;z-index: 0;}#sk-container-id-3 div.sk-serial {display: flex;flex-direction: column;align-items: center;background-color: white;padding-right: 0.2em;padding-left: 0.2em;position: relative;}#sk-container-id-3 div.sk-item {position: relative;z-index: 1;}#sk-container-id-3 div.sk-parallel {display: flex;align-items: stretch;justify-content: center;background-color: white;position: relative;}#sk-container-id-3 div.sk-item::before, #sk-container-id-3 div.sk-parallel-item::before {content: \"\";position: absolute;border-left: 1px solid gray;box-sizing: border-box;top: 0;bottom: 0;left: 50%;z-index: -1;}#sk-container-id-3 div.sk-parallel-item {display: flex;flex-direction: column;z-index: 1;position: relative;background-color: white;}#sk-container-id-3 div.sk-parallel-item:first-child::after {align-self: flex-end;width: 50%;}#sk-container-id-3 div.sk-parallel-item:last-child::after {align-self: flex-start;width: 50%;}#sk-container-id-3 div.sk-parallel-item:only-child::after {width: 0;}#sk-container-id-3 div.sk-dashed-wrapped {border: 1px dashed gray;margin: 0 0.4em 0.5em 0.4em;box-sizing: border-box;padding-bottom: 0.4em;background-color: white;}#sk-container-id-3 div.sk-label label {font-family: monospace;font-weight: bold;display: inline-block;line-height: 1.2em;}#sk-container-id-3 div.sk-label-container {text-align: center;}#sk-container-id-3 div.sk-container {/* jupyter's `normalize.less` sets `[hidden] { display: none; }` but bootstrap.min.css set `[hidden] { display: none !important; }` so we also need the `!important` here to be able to override the default hidden behavior on the sphinx rendered scikit-learn.org. See: https://github.com/scikit-learn/scikit-learn/issues/21755 */display: inline-block !important;position: relative;}#sk-container-id-3 div.sk-text-repr-fallback {display: none;}</style><div id=\"sk-container-id-3\" class=\"sk-top-container\"><div class=\"sk-text-repr-fallback\"><pre>RandomizedSearchCV(cv=StratifiedKFold(n_splits=3, random_state=2, shuffle=True),\n",
       "                   estimator=Pipeline(steps=[(&#x27;feature_selector_1&#x27;,\n",
       "                                              SelectKBest(score_func=&lt;function f_regression at 0x0000027B6CE80310&gt;)),\n",
       "                                             (&#x27;scaler&#x27;, RobustScaler()),\n",
       "                                             (&#x27;feature_selector_2&#x27;,\n",
       "                                              SelectFromModel(estimator=LogisticRegression(penalty=&#x27;l1&#x27;,\n",
       "                                                                                           random_state=2,\n",
       "                                                                                           solver=&#x27;saga&#x27;))),\n",
       "                                             (&#x27;linear_model&#x27;,\n",
       "                                              Lo...\n",
       "        8.52763559, 11.29420265,  8.10006039,  9.29171254, 15.19191733,\n",
       "        8.26957937,  5.03341868, 19.70337115, 14.15221108,  7.37710631,\n",
       "        7.10377717, 17.90787834,  8.73469954,  9.90927294,  8.84329868,\n",
       "       19.76134905,  3.86874015, 19.17986241, 14.34201028,  1.54657729,\n",
       "        8.98271156,  5.96056677,  9.74886005, 15.12073785,  0.5521216 ,\n",
       "        0.55324185, 11.48077199,  3.38884182,  4.37626026, 12.9823294 ])},\n",
       "                   scoring=&#x27;f1&#x27;)</pre><b>In a Jupyter environment, please rerun this cell to show the HTML representation or trust the notebook. <br />On GitHub, the HTML representation is unable to render, please try loading this page with nbviewer.org.</b></div><div class=\"sk-container\" hidden><div class=\"sk-item sk-dashed-wrapped\"><div class=\"sk-label-container\"><div class=\"sk-label sk-toggleable\"><input class=\"sk-toggleable__control sk-hidden--visually\" id=\"sk-estimator-id-17\" type=\"checkbox\" ><label for=\"sk-estimator-id-17\" class=\"sk-toggleable__label sk-toggleable__label-arrow\">RandomizedSearchCV</label><div class=\"sk-toggleable__content\"><pre>RandomizedSearchCV(cv=StratifiedKFold(n_splits=3, random_state=2, shuffle=True),\n",
       "                   estimator=Pipeline(steps=[(&#x27;feature_selector_1&#x27;,\n",
       "                                              SelectKBest(score_func=&lt;function f_regression at 0x0000027B6CE80310&gt;)),\n",
       "                                             (&#x27;scaler&#x27;, RobustScaler()),\n",
       "                                             (&#x27;feature_selector_2&#x27;,\n",
       "                                              SelectFromModel(estimator=LogisticRegression(penalty=&#x27;l1&#x27;,\n",
       "                                                                                           random_state=2,\n",
       "                                                                                           solver=&#x27;saga&#x27;))),\n",
       "                                             (&#x27;linear_model&#x27;,\n",
       "                                              Lo...\n",
       "        8.52763559, 11.29420265,  8.10006039,  9.29171254, 15.19191733,\n",
       "        8.26957937,  5.03341868, 19.70337115, 14.15221108,  7.37710631,\n",
       "        7.10377717, 17.90787834,  8.73469954,  9.90927294,  8.84329868,\n",
       "       19.76134905,  3.86874015, 19.17986241, 14.34201028,  1.54657729,\n",
       "        8.98271156,  5.96056677,  9.74886005, 15.12073785,  0.5521216 ,\n",
       "        0.55324185, 11.48077199,  3.38884182,  4.37626026, 12.9823294 ])},\n",
       "                   scoring=&#x27;f1&#x27;)</pre></div></div></div><div class=\"sk-parallel\"><div class=\"sk-parallel-item\"><div class=\"sk-item\"><div class=\"sk-label-container\"><div class=\"sk-label sk-toggleable\"><input class=\"sk-toggleable__control sk-hidden--visually\" id=\"sk-estimator-id-18\" type=\"checkbox\" ><label for=\"sk-estimator-id-18\" class=\"sk-toggleable__label sk-toggleable__label-arrow\">estimator: Pipeline</label><div class=\"sk-toggleable__content\"><pre>Pipeline(steps=[(&#x27;feature_selector_1&#x27;,\n",
       "                 SelectKBest(score_func=&lt;function f_regression at 0x0000027B6CE80310&gt;)),\n",
       "                (&#x27;scaler&#x27;, RobustScaler()),\n",
       "                (&#x27;feature_selector_2&#x27;,\n",
       "                 SelectFromModel(estimator=LogisticRegression(penalty=&#x27;l1&#x27;,\n",
       "                                                              random_state=2,\n",
       "                                                              solver=&#x27;saga&#x27;))),\n",
       "                (&#x27;linear_model&#x27;,\n",
       "                 LogisticRegression(random_state=2, solver=&#x27;saga&#x27;))])</pre></div></div></div><div class=\"sk-serial\"><div class=\"sk-item\"><div class=\"sk-serial\"><div class=\"sk-item\"><div class=\"sk-estimator sk-toggleable\"><input class=\"sk-toggleable__control sk-hidden--visually\" id=\"sk-estimator-id-19\" type=\"checkbox\" ><label for=\"sk-estimator-id-19\" class=\"sk-toggleable__label sk-toggleable__label-arrow\">SelectKBest</label><div class=\"sk-toggleable__content\"><pre>SelectKBest(score_func=&lt;function f_regression at 0x0000027B6CE80310&gt;)</pre></div></div></div><div class=\"sk-item\"><div class=\"sk-estimator sk-toggleable\"><input class=\"sk-toggleable__control sk-hidden--visually\" id=\"sk-estimator-id-20\" type=\"checkbox\" ><label for=\"sk-estimator-id-20\" class=\"sk-toggleable__label sk-toggleable__label-arrow\">RobustScaler</label><div class=\"sk-toggleable__content\"><pre>RobustScaler()</pre></div></div></div><div class=\"sk-item sk-dashed-wrapped\"><div class=\"sk-label-container\"><div class=\"sk-label sk-toggleable\"><input class=\"sk-toggleable__control sk-hidden--visually\" id=\"sk-estimator-id-21\" type=\"checkbox\" ><label for=\"sk-estimator-id-21\" class=\"sk-toggleable__label sk-toggleable__label-arrow\">feature_selector_2: SelectFromModel</label><div class=\"sk-toggleable__content\"><pre>SelectFromModel(estimator=LogisticRegression(penalty=&#x27;l1&#x27;, random_state=2,\n",
       "                                             solver=&#x27;saga&#x27;))</pre></div></div></div><div class=\"sk-parallel\"><div class=\"sk-parallel-item\"><div class=\"sk-item\"><div class=\"sk-label-container\"><div class=\"sk-label sk-toggleable\"><input class=\"sk-toggleable__control sk-hidden--visually\" id=\"sk-estimator-id-22\" type=\"checkbox\" ><label for=\"sk-estimator-id-22\" class=\"sk-toggleable__label sk-toggleable__label-arrow\">estimator: LogisticRegression</label><div class=\"sk-toggleable__content\"><pre>LogisticRegression(penalty=&#x27;l1&#x27;, random_state=2, solver=&#x27;saga&#x27;)</pre></div></div></div><div class=\"sk-serial\"><div class=\"sk-item\"><div class=\"sk-estimator sk-toggleable\"><input class=\"sk-toggleable__control sk-hidden--visually\" id=\"sk-estimator-id-23\" type=\"checkbox\" ><label for=\"sk-estimator-id-23\" class=\"sk-toggleable__label sk-toggleable__label-arrow\">LogisticRegression</label><div class=\"sk-toggleable__content\"><pre>LogisticRegression(penalty=&#x27;l1&#x27;, random_state=2, solver=&#x27;saga&#x27;)</pre></div></div></div></div></div></div></div></div><div class=\"sk-item\"><div class=\"sk-estimator sk-toggleable\"><input class=\"sk-toggleable__control sk-hidden--visually\" id=\"sk-estimator-id-24\" type=\"checkbox\" ><label for=\"sk-estimator-id-24\" class=\"sk-toggleable__label sk-toggleable__label-arrow\">LogisticRegression</label><div class=\"sk-toggleable__content\"><pre>LogisticRegression(random_state=2, solver=&#x27;saga&#x27;)</pre></div></div></div></div></div></div></div></div></div></div></div></div>"
      ],
      "text/plain": [
       "RandomizedSearchCV(cv=StratifiedKFold(n_splits=3, random_state=2, shuffle=True),\n",
       "                   estimator=Pipeline(steps=[('feature_selector_1',\n",
       "                                              SelectKBest(score_func=<function f_regression at 0x0000027B6CE80310>)),\n",
       "                                             ('scaler', RobustScaler()),\n",
       "                                             ('feature_selector_2',\n",
       "                                              SelectFromModel(estimator=LogisticRegression(penalty='l1',\n",
       "                                                                                           random_state=2,\n",
       "                                                                                           solver='saga'))),\n",
       "                                             ('linear_model',\n",
       "                                              Lo...\n",
       "        8.52763559, 11.29420265,  8.10006039,  9.29171254, 15.19191733,\n",
       "        8.26957937,  5.03341868, 19.70337115, 14.15221108,  7.37710631,\n",
       "        7.10377717, 17.90787834,  8.73469954,  9.90927294,  8.84329868,\n",
       "       19.76134905,  3.86874015, 19.17986241, 14.34201028,  1.54657729,\n",
       "        8.98271156,  5.96056677,  9.74886005, 15.12073785,  0.5521216 ,\n",
       "        0.55324185, 11.48077199,  3.38884182,  4.37626026, 12.9823294 ])},\n",
       "                   scoring='f1')"
      ]
     },
     "execution_count": 30,
     "metadata": {},
     "output_type": "execute_result"
    }
   ],
   "source": [
    "# create object to search hyperparameters\n",
    "linear_search = RandomizedSearchCV(\n",
    "    estimator=linear_model_pipeline,\n",
    "    param_distributions=model_params,\n",
    "    n_iter=50,\n",
    "    scoring='f1',\n",
    "    refit=True,\n",
    "    cv=kfold\n",
    ")\n",
    "\n",
    "# ajuste do modelo\n",
    "linear_search.fit(x, y)"
   ]
  },
  {
   "cell_type": "code",
   "execution_count": 31,
   "metadata": {},
   "outputs": [
    {
     "name": "stdout",
     "output_type": "stream",
     "text": [
      "Best Combination of Parameters:\n",
      "{'linear_model__C': 8.277772105942791, 'feature_selector_2__estimator__C': 9.947555821327535, 'feature_selector_1__k': 6}\n"
     ]
    }
   ],
   "source": [
    "print('Best Combination of Parameters:')\n",
    "print(linear_search.best_params_)"
   ]
  },
  {
   "cell_type": "code",
   "execution_count": 32,
   "metadata": {},
   "outputs": [
    {
     "name": "stdout",
     "output_type": "stream",
     "text": [
      "Best Average Score:\n",
      "0.8234484587978264\n"
     ]
    }
   ],
   "source": [
    "print('Best Average Score:')\n",
    "print(linear_search.best_score_)"
   ]
  },
  {
   "cell_type": "code",
   "execution_count": 33,
   "metadata": {},
   "outputs": [
    {
     "name": "stdout",
     "output_type": "stream",
     "text": [
      "Recall Score:  0.8035\n",
      "F1 Score:  0.8232581967213114\n"
     ]
    }
   ],
   "source": [
    "# lets analyse the metrics in the full dataset\n",
    "linear_model = linear_search.best_estimator_\n",
    "\n",
    "# make predictions\n",
    "yhat_linear = linear_model.predict(x)\n",
    "\n",
    "print('Recall Score: ', recall_score(y, yhat_linear))\n",
    "print('F1 Score: ', f1_score(y, yhat_linear))"
   ]
  },
  {
   "cell_type": "code",
   "execution_count": 34,
   "metadata": {},
   "outputs": [
    {
     "data": {
      "text/plain": [
       "<sklearn.metrics._plot.confusion_matrix.ConfusionMatrixDisplay at 0x27b70762820>"
      ]
     },
     "execution_count": 34,
     "metadata": {},
     "output_type": "execute_result"
    },
    {
     "data": {
      "image/png": "[encoded data removed]",
      "text/plain": [
       "<Figure size 640x480 with 2 Axes>"
      ]
     },
     "metadata": {},
     "output_type": "display_data"
    }
   ],
   "source": [
    "# plot confusion matrix\n",
    "ConfusionMatrixDisplay.from_predictions(y, yhat_linear)"
   ]
  },
  {
   "cell_type": "markdown",
   "metadata": {},
   "source": [
    "## Non Linear Model Approach"
   ]
  },
  {
   "cell_type": "code",
   "execution_count": 35,
   "metadata": {},
   "outputs": [],
   "source": [
    "# configure model pipeline and parameters search space\n",
    "nlinear_model_pipeline = Pipeline([\n",
    "    ('feature_selector_1', SelectKBest(f_regression)),\n",
    "    ('scaler', RobustScaler()),\n",
    "    ('feature_selector_2', SelectFromModel(LogisticRegression(penalty='l1', random_state=2, solver='saga'))),\n",
    "    ('nlinear_model', GradientBoostingClassifier(random_state=2))\n",
    "])\n",
    "\n",
    "model_params = {\n",
    "    'feature_selector_1__k': range(1, 8),\n",
    "    'feature_selector_2__estimator__C': np.random.uniform(0.001, 20, 200),\n",
    "    'nlinear_model__n_estimators': np.random.randint(50, 1000, 200),\n",
    "    'nlinear_model__learning_rate': np.random.uniform(0.01, 0.9, 200),\n",
    "    'nlinear_model__max_depth': range(1, 17),\n",
    "}"
   ]
  },
  {
   "cell_type": "code",
   "execution_count": 36,
   "metadata": {},
   "outputs": [
    {
     "data": {
      "text/html": [
       "<style>#sk-container-id-4 {color: black;background-color: white;}#sk-container-id-4 pre{padding: 0;}#sk-container-id-4 div.sk-toggleable {background-color: white;}#sk-container-id-4 label.sk-toggleable__label {cursor: pointer;display: block;width: 100%;margin-bottom: 0;padding: 0.3em;box-sizing: border-box;text-align: center;}#sk-container-id-4 label.sk-toggleable__label-arrow:before {content: \"▸\";float: left;margin-right: 0.25em;color: #696969;}#sk-container-id-4 label.sk-toggleable__label-arrow:hover:before {color: black;}#sk-container-id-4 div.sk-estimator:hover label.sk-toggleable__label-arrow:before {color: black;}#sk-container-id-4 div.sk-toggleable__content {max-height: 0;max-width: 0;overflow: hidden;text-align: left;background-color: #f0f8ff;}#sk-container-id-4 div.sk-toggleable__content pre {margin: 0.2em;color: black;border-radius: 0.25em;background-color: #f0f8ff;}#sk-container-id-4 input.sk-toggleable__control:checked~div.sk-toggleable__content {max-height: 200px;max-width: 100%;overflow: auto;}#sk-container-id-4 input.sk-toggleable__control:checked~label.sk-toggleable__label-arrow:before {content: \"▾\";}#sk-container-id-4 div.sk-estimator input.sk-toggleable__control:checked~label.sk-toggleable__label {background-color: #d4ebff;}#sk-container-id-4 div.sk-label input.sk-toggleable__control:checked~label.sk-toggleable__label {background-color: #d4ebff;}#sk-container-id-4 input.sk-hidden--visually {border: 0;clip: rect(1px 1px 1px 1px);clip: rect(1px, 1px, 1px, 1px);height: 1px;margin: -1px;overflow: hidden;padding: 0;position: absolute;width: 1px;}#sk-container-id-4 div.sk-estimator {font-family: monospace;background-color: #f0f8ff;border: 1px dotted black;border-radius: 0.25em;box-sizing: border-box;margin-bottom: 0.5em;}#sk-container-id-4 div.sk-estimator:hover {background-color: #d4ebff;}#sk-container-id-4 div.sk-parallel-item::after {content: \"\";width: 100%;border-bottom: 1px solid gray;flex-grow: 1;}#sk-container-id-4 div.sk-label:hover label.sk-toggleable__label {background-color: #d4ebff;}#sk-container-id-4 div.sk-serial::before {content: \"\";position: absolute;border-left: 1px solid gray;box-sizing: border-box;top: 0;bottom: 0;left: 50%;z-index: 0;}#sk-container-id-4 div.sk-serial {display: flex;flex-direction: column;align-items: center;background-color: white;padding-right: 0.2em;padding-left: 0.2em;position: relative;}#sk-container-id-4 div.sk-item {position: relative;z-index: 1;}#sk-container-id-4 div.sk-parallel {display: flex;align-items: stretch;justify-content: center;background-color: white;position: relative;}#sk-container-id-4 div.sk-item::before, #sk-container-id-4 div.sk-parallel-item::before {content: \"\";position: absolute;border-left: 1px solid gray;box-sizing: border-box;top: 0;bottom: 0;left: 50%;z-index: -1;}#sk-container-id-4 div.sk-parallel-item {display: flex;flex-direction: column;z-index: 1;position: relative;background-color: white;}#sk-container-id-4 div.sk-parallel-item:first-child::after {align-self: flex-end;width: 50%;}#sk-container-id-4 div.sk-parallel-item:last-child::after {align-self: flex-start;width: 50%;}#sk-container-id-4 div.sk-parallel-item:only-child::after {width: 0;}#sk-container-id-4 div.sk-dashed-wrapped {border: 1px dashed gray;margin: 0 0.4em 0.5em 0.4em;box-sizing: border-box;padding-bottom: 0.4em;background-color: white;}#sk-container-id-4 div.sk-label label {font-family: monospace;font-weight: bold;display: inline-block;line-height: 1.2em;}#sk-container-id-4 div.sk-label-container {text-align: center;}#sk-container-id-4 div.sk-container {/* jupyter's `normalize.less` sets `[hidden] { display: none; }` but bootstrap.min.css set `[hidden] { display: none !important; }` so we also need the `!important` here to be able to override the default hidden behavior on the sphinx rendered scikit-learn.org. See: https://github.com/scikit-learn/scikit-learn/issues/21755 */display: inline-block !important;position: relative;}#sk-container-id-4 div.sk-text-repr-fallback {display: none;}</style><div id=\"sk-container-id-4\" class=\"sk-top-container\"><div class=\"sk-text-repr-fallback\"><pre>RandomizedSearchCV(cv=StratifiedKFold(n_splits=3, random_state=2, shuffle=True),\n",
       "                   estimator=Pipeline(steps=[(&#x27;feature_selector_1&#x27;,\n",
       "                                              SelectKBest(score_func=&lt;function f_regression at 0x0000027B6CE80310&gt;)),\n",
       "                                             (&#x27;scaler&#x27;, RobustScaler()),\n",
       "                                             (&#x27;feature_selector_2&#x27;,\n",
       "                                              SelectFromModel(estimator=LogisticRegression(penalty=&#x27;l1&#x27;,\n",
       "                                                                                           random_state=2,\n",
       "                                                                                           solver=&#x27;saga&#x27;))),\n",
       "                                             (&#x27;nlinear_model&#x27;,\n",
       "                                              G...\n",
       "       661, 655, 718, 952, 123, 415, 609, 207, 248, 323, 526, 424, 104,\n",
       "       713, 858, 584, 291, 783, 197, 259, 689, 850, 914, 838, 226, 190,\n",
       "       631, 624, 682, 941, 237, 560, 216, 893, 627, 957, 661, 271, 619,\n",
       "       255,  73, 315,  85, 896, 106, 952, 170, 998, 832, 987,  55, 493,\n",
       "        84, 377, 255, 940, 225, 316, 243, 296, 592, 324, 403, 497, 476,\n",
       "       881, 425, 374, 311, 419, 251, 454, 711, 254, 610, 306, 687, 512,\n",
       "       349, 742, 180, 763, 781, 791, 232,  71, 573, 387, 851, 854, 439,\n",
       "       875, 954, 526, 338, 109])},\n",
       "                   scoring=&#x27;f1&#x27;)</pre><b>In a Jupyter environment, please rerun this cell to show the HTML representation or trust the notebook. <br />On GitHub, the HTML representation is unable to render, please try loading this page with nbviewer.org.</b></div><div class=\"sk-container\" hidden><div class=\"sk-item sk-dashed-wrapped\"><div class=\"sk-label-container\"><div class=\"sk-label sk-toggleable\"><input class=\"sk-toggleable__control sk-hidden--visually\" id=\"sk-estimator-id-25\" type=\"checkbox\" ><label for=\"sk-estimator-id-25\" class=\"sk-toggleable__label sk-toggleable__label-arrow\">RandomizedSearchCV</label><div class=\"sk-toggleable__content\"><pre>RandomizedSearchCV(cv=StratifiedKFold(n_splits=3, random_state=2, shuffle=True),\n",
       "                   estimator=Pipeline(steps=[(&#x27;feature_selector_1&#x27;,\n",
       "                                              SelectKBest(score_func=&lt;function f_regression at 0x0000027B6CE80310&gt;)),\n",
       "                                             (&#x27;scaler&#x27;, RobustScaler()),\n",
       "                                             (&#x27;feature_selector_2&#x27;,\n",
       "                                              SelectFromModel(estimator=LogisticRegression(penalty=&#x27;l1&#x27;,\n",
       "                                                                                           random_state=2,\n",
       "                                                                                           solver=&#x27;saga&#x27;))),\n",
       "                                             (&#x27;nlinear_model&#x27;,\n",
       "                                              G...\n",
       "       661, 655, 718, 952, 123, 415, 609, 207, 248, 323, 526, 424, 104,\n",
       "       713, 858, 584, 291, 783, 197, 259, 689, 850, 914, 838, 226, 190,\n",
       "       631, 624, 682, 941, 237, 560, 216, 893, 627, 957, 661, 271, 619,\n",
       "       255,  73, 315,  85, 896, 106, 952, 170, 998, 832, 987,  55, 493,\n",
       "        84, 377, 255, 940, 225, 316, 243, 296, 592, 324, 403, 497, 476,\n",
       "       881, 425, 374, 311, 419, 251, 454, 711, 254, 610, 306, 687, 512,\n",
       "       349, 742, 180, 763, 781, 791, 232,  71, 573, 387, 851, 854, 439,\n",
       "       875, 954, 526, 338, 109])},\n",
       "                   scoring=&#x27;f1&#x27;)</pre></div></div></div><div class=\"sk-parallel\"><div class=\"sk-parallel-item\"><div class=\"sk-item\"><div class=\"sk-label-container\"><div class=\"sk-label sk-toggleable\"><input class=\"sk-toggleable__control sk-hidden--visually\" id=\"sk-estimator-id-26\" type=\"checkbox\" ><label for=\"sk-estimator-id-26\" class=\"sk-toggleable__label sk-toggleable__label-arrow\">estimator: Pipeline</label><div class=\"sk-toggleable__content\"><pre>Pipeline(steps=[(&#x27;feature_selector_1&#x27;,\n",
       "                 SelectKBest(score_func=&lt;function f_regression at 0x0000027B6CE80310&gt;)),\n",
       "                (&#x27;scaler&#x27;, RobustScaler()),\n",
       "                (&#x27;feature_selector_2&#x27;,\n",
       "                 SelectFromModel(estimator=LogisticRegression(penalty=&#x27;l1&#x27;,\n",
       "                                                              random_state=2,\n",
       "                                                              solver=&#x27;saga&#x27;))),\n",
       "                (&#x27;nlinear_model&#x27;, GradientBoostingClassifier(random_state=2))])</pre></div></div></div><div class=\"sk-serial\"><div class=\"sk-item\"><div class=\"sk-serial\"><div class=\"sk-item\"><div class=\"sk-estimator sk-toggleable\"><input class=\"sk-toggleable__control sk-hidden--visually\" id=\"sk-estimator-id-27\" type=\"checkbox\" ><label for=\"sk-estimator-id-27\" class=\"sk-toggleable__label sk-toggleable__label-arrow\">SelectKBest</label><div class=\"sk-toggleable__content\"><pre>SelectKBest(score_func=&lt;function f_regression at 0x0000027B6CE80310&gt;)</pre></div></div></div><div class=\"sk-item\"><div class=\"sk-estimator sk-toggleable\"><input class=\"sk-toggleable__control sk-hidden--visually\" id=\"sk-estimator-id-28\" type=\"checkbox\" ><label for=\"sk-estimator-id-28\" class=\"sk-toggleable__label sk-toggleable__label-arrow\">RobustScaler</label><div class=\"sk-toggleable__content\"><pre>RobustScaler()</pre></div></div></div><div class=\"sk-item sk-dashed-wrapped\"><div class=\"sk-label-container\"><div class=\"sk-label sk-toggleable\"><input class=\"sk-toggleable__control sk-hidden--visually\" id=\"sk-estimator-id-29\" type=\"checkbox\" ><label for=\"sk-estimator-id-29\" class=\"sk-toggleable__label sk-toggleable__label-arrow\">feature_selector_2: SelectFromModel</label><div class=\"sk-toggleable__content\"><pre>SelectFromModel(estimator=LogisticRegression(penalty=&#x27;l1&#x27;, random_state=2,\n",
       "                                             solver=&#x27;saga&#x27;))</pre></div></div></div><div class=\"sk-parallel\"><div class=\"sk-parallel-item\"><div class=\"sk-item\"><div class=\"sk-label-container\"><div class=\"sk-label sk-toggleable\"><input class=\"sk-toggleable__control sk-hidden--visually\" id=\"sk-estimator-id-30\" type=\"checkbox\" ><label for=\"sk-estimator-id-30\" class=\"sk-toggleable__label sk-toggleable__label-arrow\">estimator: LogisticRegression</label><div class=\"sk-toggleable__content\"><pre>LogisticRegression(penalty=&#x27;l1&#x27;, random_state=2, solver=&#x27;saga&#x27;)</pre></div></div></div><div class=\"sk-serial\"><div class=\"sk-item\"><div class=\"sk-estimator sk-toggleable\"><input class=\"sk-toggleable__control sk-hidden--visually\" id=\"sk-estimator-id-31\" type=\"checkbox\" ><label for=\"sk-estimator-id-31\" class=\"sk-toggleable__label sk-toggleable__label-arrow\">LogisticRegression</label><div class=\"sk-toggleable__content\"><pre>LogisticRegression(penalty=&#x27;l1&#x27;, random_state=2, solver=&#x27;saga&#x27;)</pre></div></div></div></div></div></div></div></div><div class=\"sk-item\"><div class=\"sk-estimator sk-toggleable\"><input class=\"sk-toggleable__control sk-hidden--visually\" id=\"sk-estimator-id-32\" type=\"checkbox\" ><label for=\"sk-estimator-id-32\" class=\"sk-toggleable__label sk-toggleable__label-arrow\">GradientBoostingClassifier</label><div class=\"sk-toggleable__content\"><pre>GradientBoostingClassifier(random_state=2)</pre></div></div></div></div></div></div></div></div></div></div></div></div>"
      ],
      "text/plain": [
       "RandomizedSearchCV(cv=StratifiedKFold(n_splits=3, random_state=2, shuffle=True),\n",
       "                   estimator=Pipeline(steps=[('feature_selector_1',\n",
       "                                              SelectKBest(score_func=<function f_regression at 0x0000027B6CE80310>)),\n",
       "                                             ('scaler', RobustScaler()),\n",
       "                                             ('feature_selector_2',\n",
       "                                              SelectFromModel(estimator=LogisticRegression(penalty='l1',\n",
       "                                                                                           random_state=2,\n",
       "                                                                                           solver='saga'))),\n",
       "                                             ('nlinear_model',\n",
       "                                              G...\n",
       "       661, 655, 718, 952, 123, 415, 609, 207, 248, 323, 526, 424, 104,\n",
       "       713, 858, 584, 291, 783, 197, 259, 689, 850, 914, 838, 226, 190,\n",
       "       631, 624, 682, 941, 237, 560, 216, 893, 627, 957, 661, 271, 619,\n",
       "       255,  73, 315,  85, 896, 106, 952, 170, 998, 832, 987,  55, 493,\n",
       "        84, 377, 255, 940, 225, 316, 243, 296, 592, 324, 403, 497, 476,\n",
       "       881, 425, 374, 311, 419, 251, 454, 711, 254, 610, 306, 687, 512,\n",
       "       349, 742, 180, 763, 781, 791, 232,  71, 573, 387, 851, 854, 439,\n",
       "       875, 954, 526, 338, 109])},\n",
       "                   scoring='f1')"
      ]
     },
     "execution_count": 36,
     "metadata": {},
     "output_type": "execute_result"
    }
   ],
   "source": [
    "# create object to search hyperparameters\n",
    "nlinear_search = RandomizedSearchCV(\n",
    "    estimator=nlinear_model_pipeline,\n",
    "    param_distributions=model_params,\n",
    "    n_iter=5,\n",
    "    scoring='f1',\n",
    "    refit=True,\n",
    "    cv=kfold\n",
    ")\n",
    "\n",
    "# ajuste do modelo\n",
    "nlinear_search.fit(x, y)"
   ]
  },
  {
   "cell_type": "code",
   "execution_count": 37,
   "metadata": {},
   "outputs": [
    {
     "name": "stdout",
     "output_type": "stream",
     "text": [
      "Best Combination of Parameters:\n",
      "{'nlinear_model__n_estimators': 763, 'nlinear_model__max_depth': 1, 'nlinear_model__learning_rate': 0.4651270351716956, 'feature_selector_2__estimator__C': 14.557944253084763, 'feature_selector_1__k': 6}\n"
     ]
    }
   ],
   "source": [
    "print('Best Combination of Parameters:')\n",
    "print(nlinear_search.best_params_)"
   ]
  },
  {
   "cell_type": "code",
   "execution_count": 38,
   "metadata": {},
   "outputs": [
    {
     "name": "stdout",
     "output_type": "stream",
     "text": [
      "Best Average Score:\n",
      "0.8058181342516523\n"
     ]
    }
   ],
   "source": [
    "print('Best Average Score:')\n",
    "print(nlinear_search.best_score_)"
   ]
  },
  {
   "cell_type": "code",
   "execution_count": 39,
   "metadata": {},
   "outputs": [
    {
     "name": "stdout",
     "output_type": "stream",
     "text": [
      "Recall Score:  0.817\n",
      "F1 Score:  0.8403188480329133\n"
     ]
    }
   ],
   "source": [
    "# lets analyse the metrics in the full dataset\n",
    "nlinear_model = nlinear_search.best_estimator_\n",
    "\n",
    "# make predictions\n",
    "yhat_nlinear = nlinear_model.predict(x)\n",
    "\n",
    "print('Recall Score: ', recall_score(y, yhat_nlinear))\n",
    "print('F1 Score: ', f1_score(y, yhat_nlinear))"
   ]
  },
  {
   "cell_type": "code",
   "execution_count": 40,
   "metadata": {},
   "outputs": [
    {
     "data": {
      "text/plain": [
       "<sklearn.metrics._plot.confusion_matrix.ConfusionMatrixDisplay at 0x27b73937d30>"
      ]
     },
     "execution_count": 40,
     "metadata": {},
     "output_type": "execute_result"
    },
    {
     "data": {
      "image/png": "[encoded data removed]",
      "text/plain": [
       "<Figure size 640x480 with 2 Axes>"
      ]
     },
     "metadata": {},
     "output_type": "display_data"
    }
   ],
   "source": [
    "# plot confusion matrix\n",
    "ConfusionMatrixDisplay.from_predictions(y, yhat_nlinear)"
   ]
  },
  {
   "cell_type": "code",
   "execution_count": 43,
   "metadata": {},
   "outputs": [
    {
     "data": {
      "text/plain": [
       "['../../models\\\\classification_model.m']"
      ]
     },
     "execution_count": 43,
     "metadata": {},
     "output_type": "execute_result"
    }
   ],
   "source": [
    "# save model\n",
    "if not os.path.isdir(MODELS):\n",
    "    os.makedirs(MODELS)\n",
    "\n",
    "joblib.dump(linear_model, os.path.join(MODELS, 'classification_model.m'))"
   ]
  },
  {
   "cell_type": "code",
   "execution_count": null,
   "metadata": {},
   "outputs": [],
   "source": []
  }
 ],
 "metadata": {
  "kernelspec": {
   "display_name": "Python 3.8.0 ('unila_env')",
   "language": "python",
   "name": "python3"
  },
  "language_info": {
   "codemirror_mode": {
    "name": "ipython",
    "version": 3
   },
   "file_extension": ".py",
   "mimetype": "text/x-python",
   "name": "python",
   "nbconvert_exporter": "python",
   "pygments_lexer": "ipython3",
   "version": "3.8.0"
  },
  "orig_nbformat": 4,
  "vscode": {
   "interpreter": {
    "hash": "79c37d6a6d3f20c4c40bf4e86c079842bf4cd18d900cb77c538392844fab8427"
   }
  }
 },
 "nbformat": 4,
 "nbformat_minor": 2
}
